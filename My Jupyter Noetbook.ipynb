{
 "cells": [
  {
   "cell_type": "markdown",
   "id": "0bf2e896-67ba-4c6c-be26-0f7bcbebb16a",
   "metadata": {},
   "source": [
    "<h1>My Jupyter Notebook on IBM Watson Studio</h1>"
   ]
  },
  {
   "cell_type": "markdown",
   "id": "2e12c8b2-b204-4853-9639-2e1e54d71dfd",
   "metadata": {},
   "source": [
    "<b>Adrian Kita </b>\n",
    "Data Scientist"
   ]
  },
  {
   "cell_type": "markdown",
   "id": "e93fa874-abbb-407e-8248-662f27c01171",
   "metadata": {},
   "source": [
    "<em>I am interested in data science because I find the data incredibly interesting. With the right data, you can get answers to very interesting problems in every possible field.</em>"
   ]
  },
  {
   "cell_type": "markdown",
   "id": "c7edda46-90ac-4a82-b132-b01162736805",
   "metadata": {},
   "source": [
    "<h3>The following code calculates 3 multiplied by 4</h3>"
   ]
  },
  {
   "cell_type": "code",
   "execution_count": 1,
   "id": "3fc637e8-1292-4f9b-b5e6-438942a0b598",
   "metadata": {},
   "outputs": [
    {
     "data": {
      "text/plain": [
       "12"
      ]
     },
     "execution_count": 1,
     "metadata": {},
     "output_type": "execute_result"
    }
   ],
   "source": [
    "3*4"
   ]
  },
  {
   "cell_type": "markdown",
   "id": "6d6631cf-491f-4026-9086-05311c239621",
   "metadata": {},
   "source": [
    "<ul>\n",
    "    <li>One</li>\n",
    "    <li>Two</li>\n",
    "    <li>Three</li>\n",
    "    <li>Four</li>\n",
    "    <li>Five</li>\n",
    "</ul>"
   ]
  },
  {
   "cell_type": "code",
   "execution_count": null,
   "id": "c06adeb7-b7b6-47c1-8bcb-ec3b17670b1f",
   "metadata": {},
   "outputs": [],
   "source": []
  }
 ],
 "metadata": {
  "kernelspec": {
   "display_name": "Python",
   "language": "python",
   "name": "conda-env-python-py"
  },
  "language_info": {
   "codemirror_mode": {
    "name": "ipython",
    "version": 3
   },
   "file_extension": ".py",
   "mimetype": "text/x-python",
   "name": "python",
   "nbconvert_exporter": "python",
   "pygments_lexer": "ipython3",
   "version": "3.7.12"
  }
 },
 "nbformat": 4,
 "nbformat_minor": 5
}
